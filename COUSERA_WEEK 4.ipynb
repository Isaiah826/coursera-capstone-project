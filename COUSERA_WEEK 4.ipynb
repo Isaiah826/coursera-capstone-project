{
 "cells": [
  {
   "cell_type": "markdown",
   "metadata": {},
   "source": [
    "# Coursera Applied Data Science Capstone Project"
   ]
  },
  {
   "cell_type": "markdown",
   "metadata": {},
   "source": [
    "### Comparison of Toronto's neighbourhoods by educational and healthcare services."
   ]
  },
  {
   "cell_type": "markdown",
   "metadata": {},
   "source": [
    "INTRODUCTION AND OBJECTIVES OF THE PROJECT"
   ]
  },
  {
   "cell_type": "markdown",
   "metadata": {},
   "source": [
    "\n",
    "The project is aim at identifying and comparing different schools and health facilities (hospital) in the city of Toronto. This project is addressed to anyone who plan to relocate to Toronto city. It focuses on two area of interest\n",
    "1.\tAvailability of schools in different neighbourhood in Toronto\n",
    "2.\tAvailability of standard hospitals in different neigbourhoods of the city of Toronto\n",
    "The result may be of interest to individuals who wants to relocate to Toronto for a very good reason such as change in work environment. It could also be very resourceful for government authorities for good decision making in accessing the welfare of her citizen in Toronto\n",
    "The aim of the project is to collect the related data and cluster the city's neighbourhoods based on the number of schools and clinics per neighbourhood and per capita in each neighbourhood.\n"
   ]
  },
  {
   "cell_type": "code",
   "execution_count": null,
   "metadata": {},
   "outputs": [],
   "source": [
    "# "
   ]
  }
 ],
 "metadata": {
  "kernelspec": {
   "display_name": "Python 3",
   "language": "python",
   "name": "python3"
  },
  "language_info": {
   "codemirror_mode": {
    "name": "ipython",
    "version": 3
   },
   "file_extension": ".py",
   "mimetype": "text/x-python",
   "name": "python",
   "nbconvert_exporter": "python",
   "pygments_lexer": "ipython3",
   "version": "3.6.5"
  }
 },
 "nbformat": 4,
 "nbformat_minor": 2
}
